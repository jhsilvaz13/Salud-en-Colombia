{
 "cells": [
  {
   "attachments": {},
   "cell_type": "markdown",
   "metadata": {},
   "source": [
    "# Indicadores de calidad en salud"
   ]
  },
  {
   "attachments": {},
   "cell_type": "markdown",
   "metadata": {},
   "source": [
    "## Librerías"
   ]
  },
  {
   "cell_type": "code",
   "execution_count": 113,
   "metadata": {},
   "outputs": [],
   "source": [
    "import pandas as pd\n",
    "import missingno as msno\n",
    "import matplotlib.pyplot as plt\n",
    "import seaborn as sns\n",
    "import numpy as np"
   ]
  },
  {
   "cell_type": "code",
   "execution_count": 114,
   "metadata": {},
   "outputs": [],
   "source": [
    "import os\n",
    "#Crear los directorios para almacenar los datos\n",
    "# Definir una lista con los nombres de los departamentos\n",
    "departamentos = [   'Amazonas', 'Antioquia', 'Arauca', 'Atlántico', 'Bogotá', 'Bolívar', 'Boyacá',\n",
    "                    'Caldas', 'Caquetá', 'Casanare', 'Cauca', 'Cesar', 'Chocó', 'Córdoba', 'Cundinamarca',\n",
    "                    'Guainía', 'Guaviare', 'Huila', 'La Guajira', 'Magdalena', 'Meta', 'Nariño', \n",
    "                    'Norte de Santander', 'Putumayo', 'Quindío', 'Risaralda', 'San Andrés y Providencia', \n",
    "                    'Santander', 'Sucre', 'Tolima', 'Valle del Cauca', 'Vaupés', 'Vichada']\n",
    "categorias = ['Efectividad','Experiencia de la atencion','Gestión del riesgo','Seguridad']\n",
    "# Iterar sobre la lista y crear un directorio para cada departamento\n",
    "for departamento in departamentos:\n",
    "    try:\n",
    "        path=\"./data/IndicadoresIPS/\"\n",
    "        # Usar el nombre del departamento como el nombre del directorio\n",
    "        os.mkdir(path+departamento)\n",
    "        path=path+departamento+\"/\"\n",
    "        for cat in categorias:\n",
    "            os.mkdir(path+cat)\n",
    "    except:\n",
    "        pass"
   ]
  },
  {
   "cell_type": "code",
   "execution_count": 115,
   "metadata": {},
   "outputs": [],
   "source": [
    "departamentos = ['Amazonas', 'Antioquia', 'Arauca', 'Atlántico', 'Bogotá', 'Bolívar', 'Boyacá', 'Caldas', 'Caquetá', 'Casanare', 'Cauca', 'Cesar', 'Chocó', 'Córdoba', 'Cundinamarca', 'Guainía', 'Guaviare', 'Huila', 'La Guajira', 'Magdalena', 'Meta', 'Nariño', 'Norte de Santander', 'Putumayo', 'Quindío', 'Risaralda', 'San Andrés y Providencia', 'Santander', 'Sucre', 'Tolima', 'Valle del Cauca', 'Vaupés', 'Vichada']\n",
    "\n",
    "df_efectividad=pd.DataFrame()\n",
    "\n",
    "\n",
    "for dpto in departamentos:\n",
    "        for i in range(0,24):\n",
    "            try:                \n",
    "                df=pd.read_csv(\"./data/IndicadoresIPS/\"+dpto+\"/Efectividad/IndicadoresIPS-Efectividad-Resol256-\"+str(i)+\".csv\", skiprows=3)\n",
    "                df_efectividad=pd.concat([df_efectividad,df],axis=0)\n",
    "            except FileNotFoundError:\n",
    "                pass"
   ]
  },
  {
   "cell_type": "code",
   "execution_count": 116,
   "metadata": {},
   "outputs": [],
   "source": [
    "df_atencion=pd.DataFrame()\n",
    "\n",
    "for dpto in departamentos:\n",
    "        for i in range(0,14):\n",
    "            try:                \n",
    "                df=pd.read_csv(\"./data/IndicadoresIPS/\"+dpto+\"/Experiencia de la atencion/IndicadoresIPS-ExperienciaAtencion-Resol256-\"+str(i)+\".csv\", skiprows=3)\n",
    "                df_atencion=pd.concat([df_atencion,df],axis=0)\n",
    "            except FileNotFoundError:\n",
    "                pass"
   ]
  },
  {
   "cell_type": "code",
   "execution_count": 117,
   "metadata": {},
   "outputs": [],
   "source": [
    "df_seguridad=pd.DataFrame()\n",
    "\n",
    "for dpto in departamentos:\n",
    "        for i in range(0,12):\n",
    "            try:                \n",
    "                df=pd.read_csv(\"./data/IndicadoresIPS/\"+dpto+\"/Seguridad/IndicadoresIPS-Seguridad-Resol256-\"+str(i)+\".csv\", skiprows=3)\n",
    "                df_seguridad=pd.concat([df_seguridad,df],axis=0)\n",
    "            except FileNotFoundError:\n",
    "                pass"
   ]
  },
  {
   "cell_type": "code",
   "execution_count": 118,
   "metadata": {},
   "outputs": [],
   "source": [
    "#Cambiamos los indices anterirores por los nuevos\n",
    "df_efectividad.reset_index(inplace=True,drop=True)\n",
    "df_atencion.reset_index(inplace=True,drop=True)\n",
    "df_seguridad.reset_index(inplace=True,drop=True)"
   ]
  },
  {
   "attachments": {},
   "cell_type": "markdown",
   "metadata": {},
   "source": [
    "# Limpieza de datos"
   ]
  },
  {
   "attachments": {},
   "cell_type": "markdown",
   "metadata": {},
   "source": [
    "## Efectividad"
   ]
  },
  {
   "cell_type": "code",
   "execution_count": 119,
   "metadata": {},
   "outputs": [
    {
     "name": "stdout",
     "output_type": "stream",
     "text": [
      "<class 'pandas.core.frame.DataFrame'>\n",
      "RangeIndex: 6584 entries, 0 to 6583\n",
      "Data columns (total 12 columns):\n",
      " #   Column        Non-Null Count  Dtype \n",
      "---  ------        --------------  ----- \n",
      " 0   Indicador     6584 non-null   object\n",
      " 1   CodDepto      6584 non-null   int64 \n",
      " 2   Departamento  6584 non-null   object\n",
      " 3   CodMunicipio  6584 non-null   int64 \n",
      " 4   Municipio     6584 non-null   object\n",
      " 5   IPS           6584 non-null   object\n",
      " 6   Factor        6584 non-null   int64 \n",
      " 7   UnidadMedida  6584 non-null   object\n",
      " 8   Fecha         6584 non-null   int64 \n",
      " 9   Numerador     6515 non-null   object\n",
      " 10  Denominador   6584 non-null   object\n",
      " 11  Textbox2      6584 non-null   object\n",
      "dtypes: int64(4), object(8)\n",
      "memory usage: 617.4+ KB\n"
     ]
    }
   ],
   "source": [
    "df_efectividad.info()"
   ]
  },
  {
   "attachments": {},
   "cell_type": "markdown",
   "metadata": {},
   "source": [
    "Primero eliminamos columnas que no son utilizadas en el análisis o bien que no tienen información relevante, de esta manera se reduce el tamaño del dataset y se facilita el análisis. Asi eliminamos las siguientes columnas:\n",
    "* ***CodMunicipio***: este codigo no es necesario ya que este valor siempre es cero debido a que los datos se tomaron por departamento\n",
    "* ***Municipio***: este valor no es necesario ya que este valor siempre es TOTAL debido a que los datos se tomaron por departamento\n",
    "* ***IPS***: estte valor no es necesario ya que este valor siempre es total debido a que los datos se tomaron por departamento"
   ]
  },
  {
   "cell_type": "code",
   "execution_count": 120,
   "metadata": {},
   "outputs": [],
   "source": [
    "df_efectividad.drop(columns=['CodMunicipio','Municipio','IPS'],inplace=True)"
   ]
  },
  {
   "cell_type": "code",
   "execution_count": 121,
   "metadata": {},
   "outputs": [
    {
     "data": {
      "text/html": [
       "<div>\n",
       "<style scoped>\n",
       "    .dataframe tbody tr th:only-of-type {\n",
       "        vertical-align: middle;\n",
       "    }\n",
       "\n",
       "    .dataframe tbody tr th {\n",
       "        vertical-align: top;\n",
       "    }\n",
       "\n",
       "    .dataframe thead th {\n",
       "        text-align: right;\n",
       "    }\n",
       "</style>\n",
       "<table border=\"1\" class=\"dataframe\">\n",
       "  <thead>\n",
       "    <tr style=\"text-align: right;\">\n",
       "      <th></th>\n",
       "      <th>Indicador</th>\n",
       "      <th>CodDepto</th>\n",
       "      <th>Departamento</th>\n",
       "      <th>Factor</th>\n",
       "      <th>UnidadMedida</th>\n",
       "      <th>Fecha</th>\n",
       "      <th>Numerador</th>\n",
       "      <th>Denominador</th>\n",
       "      <th>Textbox2</th>\n",
       "    </tr>\n",
       "  </thead>\n",
       "  <tbody>\n",
       "    <tr>\n",
       "      <th>0</th>\n",
       "      <td>Proporción de niños y niñas menores de 18 mese...</td>\n",
       "      <td>91</td>\n",
       "      <td>91 - Amazonas</td>\n",
       "      <td>100</td>\n",
       "      <td>Porcentaje</td>\n",
       "      <td>2018</td>\n",
       "      <td>0,00</td>\n",
       "      <td>1,00</td>\n",
       "      <td>0,00</td>\n",
       "    </tr>\n",
       "    <tr>\n",
       "      <th>1</th>\n",
       "      <td>Proporción de niños y niñas menores de 18 mese...</td>\n",
       "      <td>91</td>\n",
       "      <td>91 - Amazonas</td>\n",
       "      <td>100</td>\n",
       "      <td>Porcentaje</td>\n",
       "      <td>2019</td>\n",
       "      <td>0,00</td>\n",
       "      <td>1,00</td>\n",
       "      <td>0,00</td>\n",
       "    </tr>\n",
       "    <tr>\n",
       "      <th>2</th>\n",
       "      <td>Proporción de niños y niñas menores de 18 mese...</td>\n",
       "      <td>91</td>\n",
       "      <td>91 - Amazonas</td>\n",
       "      <td>100</td>\n",
       "      <td>Porcentaje</td>\n",
       "      <td>2020</td>\n",
       "      <td>0,00</td>\n",
       "      <td>2,00</td>\n",
       "      <td>0,00</td>\n",
       "    </tr>\n",
       "    <tr>\n",
       "      <th>3</th>\n",
       "      <td>Proporción de mujeres a las que se les realizó...</td>\n",
       "      <td>91</td>\n",
       "      <td>91 - Amazonas</td>\n",
       "      <td>100</td>\n",
       "      <td>Porcentaje</td>\n",
       "      <td>2015</td>\n",
       "      <td>0,00</td>\n",
       "      <td>1,00</td>\n",
       "      <td>0,00</td>\n",
       "    </tr>\n",
       "    <tr>\n",
       "      <th>4</th>\n",
       "      <td>Proporción de mujeres a las que se les realizó...</td>\n",
       "      <td>91</td>\n",
       "      <td>91 - Amazonas</td>\n",
       "      <td>100</td>\n",
       "      <td>Porcentaje</td>\n",
       "      <td>2016</td>\n",
       "      <td>33,00</td>\n",
       "      <td>38,00</td>\n",
       "      <td>86,84</td>\n",
       "    </tr>\n",
       "  </tbody>\n",
       "</table>\n",
       "</div>"
      ],
      "text/plain": [
       "                                           Indicador  CodDepto   Departamento  \\\n",
       "0  Proporción de niños y niñas menores de 18 mese...        91  91 - Amazonas   \n",
       "1  Proporción de niños y niñas menores de 18 mese...        91  91 - Amazonas   \n",
       "2  Proporción de niños y niñas menores de 18 mese...        91  91 - Amazonas   \n",
       "3  Proporción de mujeres a las que se les realizó...        91  91 - Amazonas   \n",
       "4  Proporción de mujeres a las que se les realizó...        91  91 - Amazonas   \n",
       "\n",
       "   Factor UnidadMedida  Fecha Numerador Denominador Textbox2  \n",
       "0     100   Porcentaje   2018      0,00        1,00     0,00  \n",
       "1     100   Porcentaje   2019      0,00        1,00     0,00  \n",
       "2     100   Porcentaje   2020      0,00        2,00     0,00  \n",
       "3     100   Porcentaje   2015      0,00        1,00     0,00  \n",
       "4     100   Porcentaje   2016     33,00       38,00    86,84  "
      ]
     },
     "execution_count": 121,
     "metadata": {},
     "output_type": "execute_result"
    }
   ],
   "source": [
    "df_efectividad.head()"
   ]
  },
  {
   "attachments": {},
   "cell_type": "markdown",
   "metadata": {},
   "source": [
    "Tomar el nombre del departamento"
   ]
  },
  {
   "cell_type": "code",
   "execution_count": 122,
   "metadata": {},
   "outputs": [],
   "source": [
    "df_efectividad['Departamento']=df_efectividad['Departamento'].str.split(\" - \").str[1]"
   ]
  },
  {
   "cell_type": "code",
   "execution_count": 123,
   "metadata": {},
   "outputs": [
    {
     "data": {
      "text/html": [
       "<div>\n",
       "<style scoped>\n",
       "    .dataframe tbody tr th:only-of-type {\n",
       "        vertical-align: middle;\n",
       "    }\n",
       "\n",
       "    .dataframe tbody tr th {\n",
       "        vertical-align: top;\n",
       "    }\n",
       "\n",
       "    .dataframe thead th {\n",
       "        text-align: right;\n",
       "    }\n",
       "</style>\n",
       "<table border=\"1\" class=\"dataframe\">\n",
       "  <thead>\n",
       "    <tr style=\"text-align: right;\">\n",
       "      <th></th>\n",
       "      <th>Indicador</th>\n",
       "      <th>CodDepto</th>\n",
       "      <th>Departamento</th>\n",
       "      <th>Factor</th>\n",
       "      <th>UnidadMedida</th>\n",
       "      <th>Fecha</th>\n",
       "      <th>Numerador</th>\n",
       "      <th>Denominador</th>\n",
       "      <th>Textbox2</th>\n",
       "    </tr>\n",
       "  </thead>\n",
       "  <tbody>\n",
       "    <tr>\n",
       "      <th>0</th>\n",
       "      <td>Proporción de niños y niñas menores de 18 mese...</td>\n",
       "      <td>91</td>\n",
       "      <td>Amazonas</td>\n",
       "      <td>100</td>\n",
       "      <td>Porcentaje</td>\n",
       "      <td>2018</td>\n",
       "      <td>0,00</td>\n",
       "      <td>1,00</td>\n",
       "      <td>0,00</td>\n",
       "    </tr>\n",
       "    <tr>\n",
       "      <th>1</th>\n",
       "      <td>Proporción de niños y niñas menores de 18 mese...</td>\n",
       "      <td>91</td>\n",
       "      <td>Amazonas</td>\n",
       "      <td>100</td>\n",
       "      <td>Porcentaje</td>\n",
       "      <td>2019</td>\n",
       "      <td>0,00</td>\n",
       "      <td>1,00</td>\n",
       "      <td>0,00</td>\n",
       "    </tr>\n",
       "    <tr>\n",
       "      <th>2</th>\n",
       "      <td>Proporción de niños y niñas menores de 18 mese...</td>\n",
       "      <td>91</td>\n",
       "      <td>Amazonas</td>\n",
       "      <td>100</td>\n",
       "      <td>Porcentaje</td>\n",
       "      <td>2020</td>\n",
       "      <td>0,00</td>\n",
       "      <td>2,00</td>\n",
       "      <td>0,00</td>\n",
       "    </tr>\n",
       "    <tr>\n",
       "      <th>3</th>\n",
       "      <td>Proporción de mujeres a las que se les realizó...</td>\n",
       "      <td>91</td>\n",
       "      <td>Amazonas</td>\n",
       "      <td>100</td>\n",
       "      <td>Porcentaje</td>\n",
       "      <td>2015</td>\n",
       "      <td>0,00</td>\n",
       "      <td>1,00</td>\n",
       "      <td>0,00</td>\n",
       "    </tr>\n",
       "    <tr>\n",
       "      <th>4</th>\n",
       "      <td>Proporción de mujeres a las que se les realizó...</td>\n",
       "      <td>91</td>\n",
       "      <td>Amazonas</td>\n",
       "      <td>100</td>\n",
       "      <td>Porcentaje</td>\n",
       "      <td>2016</td>\n",
       "      <td>33,00</td>\n",
       "      <td>38,00</td>\n",
       "      <td>86,84</td>\n",
       "    </tr>\n",
       "  </tbody>\n",
       "</table>\n",
       "</div>"
      ],
      "text/plain": [
       "                                           Indicador  CodDepto Departamento  \\\n",
       "0  Proporción de niños y niñas menores de 18 mese...        91     Amazonas   \n",
       "1  Proporción de niños y niñas menores de 18 mese...        91     Amazonas   \n",
       "2  Proporción de niños y niñas menores de 18 mese...        91     Amazonas   \n",
       "3  Proporción de mujeres a las que se les realizó...        91     Amazonas   \n",
       "4  Proporción de mujeres a las que se les realizó...        91     Amazonas   \n",
       "\n",
       "   Factor UnidadMedida  Fecha Numerador Denominador Textbox2  \n",
       "0     100   Porcentaje   2018      0,00        1,00     0,00  \n",
       "1     100   Porcentaje   2019      0,00        1,00     0,00  \n",
       "2     100   Porcentaje   2020      0,00        2,00     0,00  \n",
       "3     100   Porcentaje   2015      0,00        1,00     0,00  \n",
       "4     100   Porcentaje   2016     33,00       38,00    86,84  "
      ]
     },
     "execution_count": 123,
     "metadata": {},
     "output_type": "execute_result"
    }
   ],
   "source": [
    "df_efectividad.head()"
   ]
  },
  {
   "cell_type": "code",
   "execution_count": 124,
   "metadata": {},
   "outputs": [],
   "source": [
    "df_efectividad.dropna(inplace=True)"
   ]
  },
  {
   "cell_type": "code",
   "execution_count": 125,
   "metadata": {},
   "outputs": [
    {
     "name": "stdout",
     "output_type": "stream",
     "text": [
      "<class 'pandas.core.frame.DataFrame'>\n",
      "Int64Index: 6515 entries, 0 to 6583\n",
      "Data columns (total 9 columns):\n",
      " #   Column        Non-Null Count  Dtype \n",
      "---  ------        --------------  ----- \n",
      " 0   Indicador     6515 non-null   object\n",
      " 1   CodDepto      6515 non-null   int64 \n",
      " 2   Departamento  6515 non-null   object\n",
      " 3   Factor        6515 non-null   int64 \n",
      " 4   UnidadMedida  6515 non-null   object\n",
      " 5   Fecha         6515 non-null   int64 \n",
      " 6   Numerador     6515 non-null   object\n",
      " 7   Denominador   6515 non-null   object\n",
      " 8   Textbox2      6515 non-null   object\n",
      "dtypes: int64(3), object(6)\n",
      "memory usage: 509.0+ KB\n"
     ]
    }
   ],
   "source": [
    "df_efectividad.info()"
   ]
  },
  {
   "cell_type": "code",
   "execution_count": 126,
   "metadata": {},
   "outputs": [],
   "source": [
    "columnas=['Textbox2','Numerador','Denominador']\n",
    "for c in columnas:\n",
    "    df_efectividad[c]=df_efectividad[c].str.replace('.','',regex=True)\n",
    "    df_efectividad[c]=df_efectividad[c].str.replace(',','.',regex=True)"
   ]
  },
  {
   "cell_type": "code",
   "execution_count": 127,
   "metadata": {},
   "outputs": [],
   "source": [
    "def get_periodo(periodo):\n",
    "    if len(periodo)==4:\n",
    "        periodo+='12'\n",
    "    return periodo[0:4]+'-'+periodo[4:6]\n",
    "df_efectividad['Fecha']=df_efectividad['Fecha'].astype(str).apply(get_periodo)"
   ]
  },
  {
   "attachments": {},
   "cell_type": "markdown",
   "metadata": {},
   "source": [
    "# Atención"
   ]
  },
  {
   "cell_type": "code",
   "execution_count": 128,
   "metadata": {},
   "outputs": [
    {
     "name": "stdout",
     "output_type": "stream",
     "text": [
      "<class 'pandas.core.frame.DataFrame'>\n",
      "RangeIndex: 7377 entries, 0 to 7376\n",
      "Data columns (total 12 columns):\n",
      " #   Column        Non-Null Count  Dtype \n",
      "---  ------        --------------  ----- \n",
      " 0   Indicador     7377 non-null   object\n",
      " 1   CodDepto      7377 non-null   int64 \n",
      " 2   Departamento  7377 non-null   object\n",
      " 3   CodMunicipio  7377 non-null   int64 \n",
      " 4   Municipio     7377 non-null   object\n",
      " 5   IPS           7377 non-null   object\n",
      " 6   Factor        7377 non-null   int64 \n",
      " 7   UnidadMedida  7377 non-null   object\n",
      " 8   Fecha         7377 non-null   int64 \n",
      " 9   Numerador     7377 non-null   object\n",
      " 10  Denominador   7377 non-null   object\n",
      " 11  Textbox11     7377 non-null   object\n",
      "dtypes: int64(4), object(8)\n",
      "memory usage: 691.7+ KB\n"
     ]
    }
   ],
   "source": [
    "df_atencion.info()"
   ]
  },
  {
   "cell_type": "code",
   "execution_count": 129,
   "metadata": {},
   "outputs": [],
   "source": [
    "df_atencion.drop(columns=['CodMunicipio','Municipio','IPS'],inplace=True)"
   ]
  },
  {
   "cell_type": "code",
   "execution_count": 130,
   "metadata": {},
   "outputs": [],
   "source": [
    "df_atencion['Departamento']=df_atencion['Departamento'].str.split(\" - \").str[1]"
   ]
  },
  {
   "cell_type": "code",
   "execution_count": 131,
   "metadata": {},
   "outputs": [
    {
     "data": {
      "text/html": [
       "<div>\n",
       "<style scoped>\n",
       "    .dataframe tbody tr th:only-of-type {\n",
       "        vertical-align: middle;\n",
       "    }\n",
       "\n",
       "    .dataframe tbody tr th {\n",
       "        vertical-align: top;\n",
       "    }\n",
       "\n",
       "    .dataframe thead th {\n",
       "        text-align: right;\n",
       "    }\n",
       "</style>\n",
       "<table border=\"1\" class=\"dataframe\">\n",
       "  <thead>\n",
       "    <tr style=\"text-align: right;\">\n",
       "      <th></th>\n",
       "      <th>Indicador</th>\n",
       "      <th>CodDepto</th>\n",
       "      <th>Departamento</th>\n",
       "      <th>Factor</th>\n",
       "      <th>UnidadMedida</th>\n",
       "      <th>Fecha</th>\n",
       "      <th>Numerador</th>\n",
       "      <th>Denominador</th>\n",
       "      <th>Textbox11</th>\n",
       "    </tr>\n",
       "  </thead>\n",
       "  <tbody>\n",
       "    <tr>\n",
       "      <th>0</th>\n",
       "      <td>Tiempo promedio de espera para la asignación d...</td>\n",
       "      <td>91</td>\n",
       "      <td>Amazonas</td>\n",
       "      <td>1</td>\n",
       "      <td>Días</td>\n",
       "      <td>20170630</td>\n",
       "      <td>17.651,00</td>\n",
       "      <td>7.836,00</td>\n",
       "      <td>2,25</td>\n",
       "    </tr>\n",
       "    <tr>\n",
       "      <th>1</th>\n",
       "      <td>Tiempo promedio de espera para la asignación d...</td>\n",
       "      <td>91</td>\n",
       "      <td>Amazonas</td>\n",
       "      <td>1</td>\n",
       "      <td>Días</td>\n",
       "      <td>20171231</td>\n",
       "      <td>16.479,00</td>\n",
       "      <td>5.765,00</td>\n",
       "      <td>2,86</td>\n",
       "    </tr>\n",
       "    <tr>\n",
       "      <th>2</th>\n",
       "      <td>Tiempo promedio de espera para la asignación d...</td>\n",
       "      <td>91</td>\n",
       "      <td>Amazonas</td>\n",
       "      <td>1</td>\n",
       "      <td>Días</td>\n",
       "      <td>20180630</td>\n",
       "      <td>24.869,00</td>\n",
       "      <td>9.474,00</td>\n",
       "      <td>2,62</td>\n",
       "    </tr>\n",
       "    <tr>\n",
       "      <th>3</th>\n",
       "      <td>Tiempo promedio de espera para la asignación d...</td>\n",
       "      <td>91</td>\n",
       "      <td>Amazonas</td>\n",
       "      <td>1</td>\n",
       "      <td>Días</td>\n",
       "      <td>20181231</td>\n",
       "      <td>11.237,00</td>\n",
       "      <td>4.035,00</td>\n",
       "      <td>2,78</td>\n",
       "    </tr>\n",
       "    <tr>\n",
       "      <th>4</th>\n",
       "      <td>Tiempo promedio de espera para la asignación d...</td>\n",
       "      <td>91</td>\n",
       "      <td>Amazonas</td>\n",
       "      <td>1</td>\n",
       "      <td>Días</td>\n",
       "      <td>20190630</td>\n",
       "      <td>17.928,00</td>\n",
       "      <td>8.124,00</td>\n",
       "      <td>2,21</td>\n",
       "    </tr>\n",
       "  </tbody>\n",
       "</table>\n",
       "</div>"
      ],
      "text/plain": [
       "                                           Indicador  CodDepto Departamento  \\\n",
       "0  Tiempo promedio de espera para la asignación d...        91     Amazonas   \n",
       "1  Tiempo promedio de espera para la asignación d...        91     Amazonas   \n",
       "2  Tiempo promedio de espera para la asignación d...        91     Amazonas   \n",
       "3  Tiempo promedio de espera para la asignación d...        91     Amazonas   \n",
       "4  Tiempo promedio de espera para la asignación d...        91     Amazonas   \n",
       "\n",
       "   Factor UnidadMedida     Fecha  Numerador Denominador Textbox11  \n",
       "0       1         Días  20170630  17.651,00    7.836,00      2,25  \n",
       "1       1         Días  20171231  16.479,00    5.765,00      2,86  \n",
       "2       1         Días  20180630  24.869,00    9.474,00      2,62  \n",
       "3       1         Días  20181231  11.237,00    4.035,00      2,78  \n",
       "4       1         Días  20190630  17.928,00    8.124,00      2,21  "
      ]
     },
     "execution_count": 131,
     "metadata": {},
     "output_type": "execute_result"
    }
   ],
   "source": [
    "df_atencion.head()"
   ]
  },
  {
   "cell_type": "code",
   "execution_count": 132,
   "metadata": {},
   "outputs": [
    {
     "name": "stdout",
     "output_type": "stream",
     "text": [
      "<class 'pandas.core.frame.DataFrame'>\n",
      "RangeIndex: 7377 entries, 0 to 7376\n",
      "Data columns (total 9 columns):\n",
      " #   Column        Non-Null Count  Dtype \n",
      "---  ------        --------------  ----- \n",
      " 0   Indicador     7377 non-null   object\n",
      " 1   CodDepto      7377 non-null   int64 \n",
      " 2   Departamento  7377 non-null   object\n",
      " 3   Factor        7377 non-null   int64 \n",
      " 4   UnidadMedida  7377 non-null   object\n",
      " 5   Fecha         7377 non-null   int64 \n",
      " 6   Numerador     7377 non-null   object\n",
      " 7   Denominador   7377 non-null   object\n",
      " 8   Textbox11     7377 non-null   object\n",
      "dtypes: int64(3), object(6)\n",
      "memory usage: 518.8+ KB\n"
     ]
    }
   ],
   "source": [
    "df_atencion.info()"
   ]
  },
  {
   "cell_type": "code",
   "execution_count": 133,
   "metadata": {},
   "outputs": [
    {
     "data": {
      "text/html": [
       "<div>\n",
       "<style scoped>\n",
       "    .dataframe tbody tr th:only-of-type {\n",
       "        vertical-align: middle;\n",
       "    }\n",
       "\n",
       "    .dataframe tbody tr th {\n",
       "        vertical-align: top;\n",
       "    }\n",
       "\n",
       "    .dataframe thead th {\n",
       "        text-align: right;\n",
       "    }\n",
       "</style>\n",
       "<table border=\"1\" class=\"dataframe\">\n",
       "  <thead>\n",
       "    <tr style=\"text-align: right;\">\n",
       "      <th></th>\n",
       "      <th>Indicador</th>\n",
       "      <th>CodDepto</th>\n",
       "      <th>Departamento</th>\n",
       "      <th>Factor</th>\n",
       "      <th>UnidadMedida</th>\n",
       "      <th>Fecha</th>\n",
       "      <th>Numerador</th>\n",
       "      <th>Denominador</th>\n",
       "      <th>Textbox11</th>\n",
       "    </tr>\n",
       "  </thead>\n",
       "  <tbody>\n",
       "    <tr>\n",
       "      <th>0</th>\n",
       "      <td>Tiempo promedio de espera para la asignación d...</td>\n",
       "      <td>91</td>\n",
       "      <td>Amazonas</td>\n",
       "      <td>1</td>\n",
       "      <td>Días</td>\n",
       "      <td>20170630</td>\n",
       "      <td>17.651,00</td>\n",
       "      <td>7.836,00</td>\n",
       "      <td>2,25</td>\n",
       "    </tr>\n",
       "    <tr>\n",
       "      <th>1</th>\n",
       "      <td>Tiempo promedio de espera para la asignación d...</td>\n",
       "      <td>91</td>\n",
       "      <td>Amazonas</td>\n",
       "      <td>1</td>\n",
       "      <td>Días</td>\n",
       "      <td>20171231</td>\n",
       "      <td>16.479,00</td>\n",
       "      <td>5.765,00</td>\n",
       "      <td>2,86</td>\n",
       "    </tr>\n",
       "    <tr>\n",
       "      <th>2</th>\n",
       "      <td>Tiempo promedio de espera para la asignación d...</td>\n",
       "      <td>91</td>\n",
       "      <td>Amazonas</td>\n",
       "      <td>1</td>\n",
       "      <td>Días</td>\n",
       "      <td>20180630</td>\n",
       "      <td>24.869,00</td>\n",
       "      <td>9.474,00</td>\n",
       "      <td>2,62</td>\n",
       "    </tr>\n",
       "    <tr>\n",
       "      <th>3</th>\n",
       "      <td>Tiempo promedio de espera para la asignación d...</td>\n",
       "      <td>91</td>\n",
       "      <td>Amazonas</td>\n",
       "      <td>1</td>\n",
       "      <td>Días</td>\n",
       "      <td>20181231</td>\n",
       "      <td>11.237,00</td>\n",
       "      <td>4.035,00</td>\n",
       "      <td>2,78</td>\n",
       "    </tr>\n",
       "    <tr>\n",
       "      <th>4</th>\n",
       "      <td>Tiempo promedio de espera para la asignación d...</td>\n",
       "      <td>91</td>\n",
       "      <td>Amazonas</td>\n",
       "      <td>1</td>\n",
       "      <td>Días</td>\n",
       "      <td>20190630</td>\n",
       "      <td>17.928,00</td>\n",
       "      <td>8.124,00</td>\n",
       "      <td>2,21</td>\n",
       "    </tr>\n",
       "  </tbody>\n",
       "</table>\n",
       "</div>"
      ],
      "text/plain": [
       "                                           Indicador  CodDepto Departamento  \\\n",
       "0  Tiempo promedio de espera para la asignación d...        91     Amazonas   \n",
       "1  Tiempo promedio de espera para la asignación d...        91     Amazonas   \n",
       "2  Tiempo promedio de espera para la asignación d...        91     Amazonas   \n",
       "3  Tiempo promedio de espera para la asignación d...        91     Amazonas   \n",
       "4  Tiempo promedio de espera para la asignación d...        91     Amazonas   \n",
       "\n",
       "   Factor UnidadMedida     Fecha  Numerador Denominador Textbox11  \n",
       "0       1         Días  20170630  17.651,00    7.836,00      2,25  \n",
       "1       1         Días  20171231  16.479,00    5.765,00      2,86  \n",
       "2       1         Días  20180630  24.869,00    9.474,00      2,62  \n",
       "3       1         Días  20181231  11.237,00    4.035,00      2,78  \n",
       "4       1         Días  20190630  17.928,00    8.124,00      2,21  "
      ]
     },
     "execution_count": 133,
     "metadata": {},
     "output_type": "execute_result"
    }
   ],
   "source": [
    "df_atencion.head()\n"
   ]
  },
  {
   "cell_type": "code",
   "execution_count": 134,
   "metadata": {},
   "outputs": [],
   "source": [
    "columnas=['Textbox11','Numerador','Denominador']\n",
    "for c in columnas:\n",
    "    df_atencion[c]=df_atencion[c].str.replace('.','',regex=True)\n",
    "    df_atencion[c]=df_atencion[c].str.replace(',','.',regex=True)"
   ]
  },
  {
   "cell_type": "code",
   "execution_count": 135,
   "metadata": {},
   "outputs": [
    {
     "data": {
      "text/plain": [
       "array(['2017-06', '2017-12', '2018-06', '2018-12', '2019-06', '2019-12',\n",
       "       '2020-03', '2020-06', '2020-09', '2020-12', '2021-03', '2021-06',\n",
       "       '2021-09', '2021-12', '2022-03', '2022-06', '2022-09', '2022-12'],\n",
       "      dtype=object)"
      ]
     },
     "execution_count": 135,
     "metadata": {},
     "output_type": "execute_result"
    }
   ],
   "source": [
    "def get_periodo(periodo):\n",
    "    return periodo[0:4]+'-'+periodo[4:6]\n",
    "df_atencion['Fecha']=df_atencion['Fecha'].astype(str).apply(get_periodo)\n",
    "\n",
    "df_atencion['Fecha'].unique()"
   ]
  },
  {
   "attachments": {},
   "cell_type": "markdown",
   "metadata": {},
   "source": [
    "# Seguridad"
   ]
  },
  {
   "cell_type": "code",
   "execution_count": 136,
   "metadata": {},
   "outputs": [
    {
     "name": "stdout",
     "output_type": "stream",
     "text": [
      "<class 'pandas.core.frame.DataFrame'>\n",
      "RangeIndex: 6131 entries, 0 to 6130\n",
      "Data columns (total 13 columns):\n",
      " #   Column        Non-Null Count  Dtype \n",
      "---  ------        --------------  ----- \n",
      " 0   Indicador     6131 non-null   object\n",
      " 1   CodDepto      6131 non-null   int64 \n",
      " 2   Departamento  6131 non-null   object\n",
      " 3   CodMunicipio  6131 non-null   int64 \n",
      " 4   Municipio     6131 non-null   object\n",
      " 5   IPS           6131 non-null   object\n",
      " 6   UCI           1053 non-null   object\n",
      " 7   Factor        6131 non-null   int64 \n",
      " 8   UnidadMedida  6131 non-null   object\n",
      " 9   Fecha         6131 non-null   int64 \n",
      " 10  Numerador     6025 non-null   object\n",
      " 11  Denominador   6025 non-null   object\n",
      " 12  Textbox6      6023 non-null   object\n",
      "dtypes: int64(4), object(9)\n",
      "memory usage: 622.8+ KB\n"
     ]
    }
   ],
   "source": [
    "df_seguridad.info()"
   ]
  },
  {
   "attachments": {},
   "cell_type": "markdown",
   "metadata": {},
   "source": [
    "Una de las variables que no es de nuestro interes es *UCI* esa es una deseagregación a nivel de unidad de cuidados intensivos que esta presente solo para algunos indicadores por loq ue para otros indicadores su valor es nulo. Por lo tanto se elimina esta columna."
   ]
  },
  {
   "cell_type": "code",
   "execution_count": 137,
   "metadata": {},
   "outputs": [
    {
     "data": {
      "text/plain": [
       "array([nan, 'UCIA', 'UCIN', 'UCIP'], dtype=object)"
      ]
     },
     "execution_count": 137,
     "metadata": {},
     "output_type": "execute_result"
    }
   ],
   "source": [
    "df_seguridad[\"UCI\"].unique()"
   ]
  },
  {
   "cell_type": "code",
   "execution_count": 138,
   "metadata": {},
   "outputs": [],
   "source": [
    "df_seguridad.drop(columns=['CodMunicipio','Municipio','IPS', 'UCI'],inplace=True)"
   ]
  },
  {
   "cell_type": "code",
   "execution_count": 139,
   "metadata": {},
   "outputs": [],
   "source": [
    "df_seguridad.dropna(inplace=True)"
   ]
  },
  {
   "cell_type": "code",
   "execution_count": 140,
   "metadata": {},
   "outputs": [
    {
     "name": "stdout",
     "output_type": "stream",
     "text": [
      "<class 'pandas.core.frame.DataFrame'>\n",
      "Int64Index: 6023 entries, 0 to 6130\n",
      "Data columns (total 9 columns):\n",
      " #   Column        Non-Null Count  Dtype \n",
      "---  ------        --------------  ----- \n",
      " 0   Indicador     6023 non-null   object\n",
      " 1   CodDepto      6023 non-null   int64 \n",
      " 2   Departamento  6023 non-null   object\n",
      " 3   Factor        6023 non-null   int64 \n",
      " 4   UnidadMedida  6023 non-null   object\n",
      " 5   Fecha         6023 non-null   int64 \n",
      " 6   Numerador     6023 non-null   object\n",
      " 7   Denominador   6023 non-null   object\n",
      " 8   Textbox6      6023 non-null   object\n",
      "dtypes: int64(3), object(6)\n",
      "memory usage: 470.5+ KB\n"
     ]
    }
   ],
   "source": [
    "df_seguridad.info()"
   ]
  },
  {
   "cell_type": "code",
   "execution_count": 141,
   "metadata": {},
   "outputs": [
    {
     "data": {
      "text/html": [
       "<div>\n",
       "<style scoped>\n",
       "    .dataframe tbody tr th:only-of-type {\n",
       "        vertical-align: middle;\n",
       "    }\n",
       "\n",
       "    .dataframe tbody tr th {\n",
       "        vertical-align: top;\n",
       "    }\n",
       "\n",
       "    .dataframe thead th {\n",
       "        text-align: right;\n",
       "    }\n",
       "</style>\n",
       "<table border=\"1\" class=\"dataframe\">\n",
       "  <thead>\n",
       "    <tr style=\"text-align: right;\">\n",
       "      <th></th>\n",
       "      <th>Indicador</th>\n",
       "      <th>CodDepto</th>\n",
       "      <th>Departamento</th>\n",
       "      <th>Factor</th>\n",
       "      <th>UnidadMedida</th>\n",
       "      <th>Fecha</th>\n",
       "      <th>Numerador</th>\n",
       "      <th>Denominador</th>\n",
       "      <th>Textbox6</th>\n",
       "    </tr>\n",
       "  </thead>\n",
       "  <tbody>\n",
       "    <tr>\n",
       "      <th>0</th>\n",
       "      <td>Tasa de caída de pacientes en el servicio de h...</td>\n",
       "      <td>91</td>\n",
       "      <td>Amazonas</td>\n",
       "      <td>1000</td>\n",
       "      <td>Tasa</td>\n",
       "      <td>201706</td>\n",
       "      <td>1,00</td>\n",
       "      <td>298,00</td>\n",
       "      <td>3,36</td>\n",
       "    </tr>\n",
       "    <tr>\n",
       "      <th>1</th>\n",
       "      <td>Tasa de caída de pacientes en el servicio de h...</td>\n",
       "      <td>91</td>\n",
       "      <td>Amazonas</td>\n",
       "      <td>1000</td>\n",
       "      <td>Tasa</td>\n",
       "      <td>201712</td>\n",
       "      <td>0,00</td>\n",
       "      <td>1.051,00</td>\n",
       "      <td>0,00</td>\n",
       "    </tr>\n",
       "    <tr>\n",
       "      <th>2</th>\n",
       "      <td>Tasa de caída de pacientes en el servicio de h...</td>\n",
       "      <td>91</td>\n",
       "      <td>Amazonas</td>\n",
       "      <td>1000</td>\n",
       "      <td>Tasa</td>\n",
       "      <td>201806</td>\n",
       "      <td>0,00</td>\n",
       "      <td>2.063,00</td>\n",
       "      <td>0,00</td>\n",
       "    </tr>\n",
       "    <tr>\n",
       "      <th>3</th>\n",
       "      <td>Tasa de caída de pacientes en el servicio de h...</td>\n",
       "      <td>91</td>\n",
       "      <td>Amazonas</td>\n",
       "      <td>1000</td>\n",
       "      <td>Tasa</td>\n",
       "      <td>201812</td>\n",
       "      <td>0,00</td>\n",
       "      <td>3.545,00</td>\n",
       "      <td>0,00</td>\n",
       "    </tr>\n",
       "    <tr>\n",
       "      <th>4</th>\n",
       "      <td>Tasa de caída de pacientes en el servicio de h...</td>\n",
       "      <td>91</td>\n",
       "      <td>Amazonas</td>\n",
       "      <td>1000</td>\n",
       "      <td>Tasa</td>\n",
       "      <td>201906</td>\n",
       "      <td>2,00</td>\n",
       "      <td>4.303,00</td>\n",
       "      <td>0,46</td>\n",
       "    </tr>\n",
       "  </tbody>\n",
       "</table>\n",
       "</div>"
      ],
      "text/plain": [
       "                                           Indicador  CodDepto Departamento  \\\n",
       "0  Tasa de caída de pacientes en el servicio de h...        91     Amazonas   \n",
       "1  Tasa de caída de pacientes en el servicio de h...        91     Amazonas   \n",
       "2  Tasa de caída de pacientes en el servicio de h...        91     Amazonas   \n",
       "3  Tasa de caída de pacientes en el servicio de h...        91     Amazonas   \n",
       "4  Tasa de caída de pacientes en el servicio de h...        91     Amazonas   \n",
       "\n",
       "   Factor UnidadMedida   Fecha Numerador Denominador Textbox6  \n",
       "0    1000         Tasa  201706      1,00      298,00     3,36  \n",
       "1    1000         Tasa  201712      0,00    1.051,00     0,00  \n",
       "2    1000         Tasa  201806      0,00    2.063,00     0,00  \n",
       "3    1000         Tasa  201812      0,00    3.545,00     0,00  \n",
       "4    1000         Tasa  201906      2,00    4.303,00     0,46  "
      ]
     },
     "execution_count": 141,
     "metadata": {},
     "output_type": "execute_result"
    }
   ],
   "source": [
    "df_seguridad.head()"
   ]
  },
  {
   "cell_type": "code",
   "execution_count": 142,
   "metadata": {},
   "outputs": [],
   "source": [
    "columnas=['Textbox6','Numerador','Denominador']\n",
    "for c in columnas:\n",
    "    df_seguridad[c]=df_seguridad[c].str.replace('.','',regex=True)\n",
    "    df_seguridad[c]=df_seguridad[c].str.replace(',','.',regex=True)"
   ]
  },
  {
   "cell_type": "code",
   "execution_count": 143,
   "metadata": {},
   "outputs": [
    {
     "data": {
      "text/plain": [
       "array(['2017-06', '2017-12', '2018-06', '2018-12', '2019-06', '2019-12',\n",
       "       '2020-03', '2020-06', '2020-09', '2020-12', '2021-03', '2021-06',\n",
       "       '2021-09', '2021-12', '2022-03', '2022-06', '2022-09', '2022-12',\n",
       "       '2016-12'], dtype=object)"
      ]
     },
     "execution_count": 143,
     "metadata": {},
     "output_type": "execute_result"
    }
   ],
   "source": [
    "def get_periodo(periodo):\n",
    "    if len(periodo)==4:\n",
    "        periodo+='12'\n",
    "    return periodo[0:4]+'-'+periodo[4:6]\n",
    "df_seguridad['Fecha']=df_seguridad['Fecha'].astype(str).apply(get_periodo)\n",
    "\n",
    "df_seguridad['Fecha'].unique()"
   ]
  },
  {
   "cell_type": "code",
   "execution_count": 144,
   "metadata": {},
   "outputs": [],
   "source": [
    "#df_seguridad['Departamento']=df_seguridad['Departamento'].str.split(\" - \").str[1]"
   ]
  },
  {
   "cell_type": "code",
   "execution_count": 145,
   "metadata": {},
   "outputs": [],
   "source": [
    "def get_departamento(departamento):\n",
    "    if len(departamento.split(\" - \"))>1:\n",
    "        return departamento.split(\" - \")[1]\n",
    "    return departamento\n",
    "\n",
    "df_seguridad['Departamento']=df_seguridad['Departamento'].apply(get_departamento)"
   ]
  },
  {
   "cell_type": "code",
   "execution_count": 146,
   "metadata": {},
   "outputs": [],
   "source": [
    "df_efectividad.to_csv(\"./data/IndicadoresIPS/efectividad.csv\",index=False)\n",
    "df_atencion.to_csv(\"./data/IndicadoresIPS/atencion.csv\",index=False)\n",
    "df_seguridad.to_csv(\"./data/IndicadoresIPS/seguridad.csv\",index=False)"
   ]
  }
 ],
 "metadata": {
  "kernelspec": {
   "display_name": "venv",
   "language": "python",
   "name": "python3"
  },
  "language_info": {
   "codemirror_mode": {
    "name": "ipython",
    "version": 3
   },
   "file_extension": ".py",
   "mimetype": "text/x-python",
   "name": "python",
   "nbconvert_exporter": "python",
   "pygments_lexer": "ipython3",
   "version": "3.10.7"
  },
  "orig_nbformat": 4
 },
 "nbformat": 4,
 "nbformat_minor": 2
}
